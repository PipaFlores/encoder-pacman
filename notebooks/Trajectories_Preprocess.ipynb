{
 "cells": [
  {
   "cell_type": "code",
   "execution_count": 405,
   "metadata": {},
   "outputs": [
    {
     "data": {
      "text/plain": [
       "<module 'src.models.LSTM' from 'c:\\\\LocalData\\\\pabflore\\\\encoder-pacman\\\\src\\\\models\\\\LSTM.py'>"
      ]
     },
     "execution_count": 405,
     "metadata": {},
     "output_type": "execute_result"
    }
   ],
   "source": [
    "import pandas as pd\n",
    "import importlib\n",
    "import matplotlib.pyplot as plt\n",
    "import stumpy\n",
    "import numpy as np\n",
    "import sys\n",
    "import os\n",
    "import sys\n",
    "# Add project root to path - adjust the number of parent dirs (..) based on where your notebook is located\n",
    "module_path = os.path.abspath(os.path.join('..'))\n",
    "if module_path not in sys.path:\n",
    "    sys.path.append(module_path)\n",
    "\n",
    "\n",
    "from src.datamodule import datamodule\n",
    "from src.visualization import SessionReplayer, TrajectoryVisualizer\n",
    "from src.utils import utils, Astar\n",
    "from src.models import LSTM\n",
    "\n",
    "\n",
    "importlib.reload(utils)\n",
    "importlib.reload(datamodule)\n",
    "importlib.reload(TrajectoryVisualizer)\n",
    "importlib.reload(LSTM)\n",
    "# from IPython.core.interactiveshell import InteractiveShell\n",
    "# InteractiveShell.ast_node_interactivity = \"all\""
   ]
  },
  {
   "cell_type": "code",
   "execution_count": 391,
   "metadata": {},
   "outputs": [
    {
     "data": {
      "text/plain": [
       "Index(['game_state_id', 'game_id', 'time_elapsed', 'score', 'lives',\n",
       "       'pacman_attack', 'input_direction', 'movement_direction', 'Pacman_X',\n",
       "       'Pacman_Y', 'Ghost1_X', 'Ghost1_Y', 'Ghost2_X', 'Ghost2_Y', 'Ghost3_X',\n",
       "       'Ghost3_Y', 'Ghost4_X', 'Ghost4_Y', 'ghost1_state', 'ghost2_state',\n",
       "       'ghost3_state', 'ghost4_state', 'powerPellets', 'pellets',\n",
       "       'powerpelletstate_1', 'powerpelletstate_2', 'powerpelletstate_3',\n",
       "       'powerpelletstate_4', 'fruitState_1', 'fruitState_2'],\n",
       "      dtype='object')"
      ]
     },
     "execution_count": 391,
     "metadata": {},
     "output_type": "execute_result"
    }
   ],
   "source": [
    "user_df, ip_df, redcap_df, game_df, gamestate_df, psychometrics_df = utils.read_data('../data/')\n",
    "\n",
    "gamestate_df.columns"
   ]
  },
  {
   "cell_type": "code",
   "execution_count": 392,
   "metadata": {},
   "outputs": [
    {
     "data": {
      "text/html": [
       "<div>\n",
       "<style scoped>\n",
       "    .dataframe tbody tr th:only-of-type {\n",
       "        vertical-align: middle;\n",
       "    }\n",
       "\n",
       "    .dataframe tbody tr th {\n",
       "        vertical-align: top;\n",
       "    }\n",
       "\n",
       "    .dataframe thead th {\n",
       "        text-align: right;\n",
       "    }\n",
       "</style>\n",
       "<table border=\"1\" class=\"dataframe\">\n",
       "  <thead>\n",
       "    <tr style=\"text-align: right;\">\n",
       "      <th></th>\n",
       "      <th>time_elapsed</th>\n",
       "      <th>Pacman_X</th>\n",
       "      <th>Pacman_Y</th>\n",
       "      <th>movement_direction</th>\n",
       "    </tr>\n",
       "  </thead>\n",
       "  <tbody>\n",
       "    <tr>\n",
       "      <th>0</th>\n",
       "      <td>0.20</td>\n",
       "      <td>0.0</td>\n",
       "      <td>-9.5</td>\n",
       "      <td>none</td>\n",
       "    </tr>\n",
       "    <tr>\n",
       "      <th>1</th>\n",
       "      <td>0.25</td>\n",
       "      <td>0.0</td>\n",
       "      <td>-9.5</td>\n",
       "      <td>none</td>\n",
       "    </tr>\n",
       "    <tr>\n",
       "      <th>2</th>\n",
       "      <td>0.30</td>\n",
       "      <td>0.0</td>\n",
       "      <td>-9.5</td>\n",
       "      <td>none</td>\n",
       "    </tr>\n",
       "    <tr>\n",
       "      <th>3</th>\n",
       "      <td>0.35</td>\n",
       "      <td>0.0</td>\n",
       "      <td>-9.5</td>\n",
       "      <td>none</td>\n",
       "    </tr>\n",
       "    <tr>\n",
       "      <th>4</th>\n",
       "      <td>0.39</td>\n",
       "      <td>0.0</td>\n",
       "      <td>-9.5</td>\n",
       "      <td>none</td>\n",
       "    </tr>\n",
       "  </tbody>\n",
       "</table>\n",
       "</div>"
      ],
      "text/plain": [
       "   time_elapsed  Pacman_X  Pacman_Y movement_direction\n",
       "0          0.20       0.0      -9.5               none\n",
       "1          0.25       0.0      -9.5               none\n",
       "2          0.30       0.0      -9.5               none\n",
       "3          0.35       0.0      -9.5               none\n",
       "4          0.39       0.0      -9.5               none"
      ]
     },
     "execution_count": 392,
     "metadata": {},
     "output_type": "execute_result"
    }
   ],
   "source": [
    "GAME_ID = 716\n",
    "\n",
    "GAME_STATE_VARIABLES = ['score', 'powerPellets']\n",
    "COORDINATES = ['Pacman_X', 'Pacman_Y']\n",
    "DIRECTION = ['movement_direction']\n",
    "INPUT = ['input_direction']\n",
    "\n",
    "\n",
    "pacman_ts = gamestate_df.loc[gamestate_df['game_id'] == GAME_ID][['time_elapsed'] + COORDINATES + DIRECTION]\n",
    "pacman_ts.reset_index(drop=True, inplace=True)\n",
    "\n",
    "for col in COORDINATES:\n",
    "    pacman_ts[col] = pacman_ts[col].astype(float)\n",
    "\n",
    "# pacman_ts = utils.pos_mirroring(pacman_ts, return_quadrant=True)\n",
    "\n",
    "pacman_ts.head()"
   ]
  },
  {
   "cell_type": "code",
   "execution_count": 393,
   "metadata": {},
   "outputs": [
    {
     "data": {
      "text/html": [
       "<div>\n",
       "<style scoped>\n",
       "    .dataframe tbody tr th:only-of-type {\n",
       "        vertical-align: middle;\n",
       "    }\n",
       "\n",
       "    .dataframe tbody tr th {\n",
       "        vertical-align: top;\n",
       "    }\n",
       "\n",
       "    .dataframe thead th {\n",
       "        text-align: right;\n",
       "    }\n",
       "</style>\n",
       "<table border=\"1\" class=\"dataframe\">\n",
       "  <thead>\n",
       "    <tr style=\"text-align: right;\">\n",
       "      <th></th>\n",
       "      <th>time_elapsed</th>\n",
       "      <th>Pacman_X</th>\n",
       "      <th>Pacman_Y</th>\n",
       "      <th>movement_direction</th>\n",
       "      <th>position_vector</th>\n",
       "      <th>movement_vector</th>\n",
       "    </tr>\n",
       "  </thead>\n",
       "  <tbody>\n",
       "    <tr>\n",
       "      <th>0</th>\n",
       "      <td>0.200000</td>\n",
       "      <td>0.00</td>\n",
       "      <td>-9.50</td>\n",
       "      <td>none</td>\n",
       "      <td>(0.0, -9.5)</td>\n",
       "      <td>(0, 0)</td>\n",
       "    </tr>\n",
       "    <tr>\n",
       "      <th>1</th>\n",
       "      <td>0.250000</td>\n",
       "      <td>0.00</td>\n",
       "      <td>-9.50</td>\n",
       "      <td>none</td>\n",
       "      <td>(0.0, -9.5)</td>\n",
       "      <td>(0, 0)</td>\n",
       "    </tr>\n",
       "    <tr>\n",
       "      <th>2</th>\n",
       "      <td>0.300000</td>\n",
       "      <td>0.00</td>\n",
       "      <td>-9.50</td>\n",
       "      <td>none</td>\n",
       "      <td>(0.0, -9.5)</td>\n",
       "      <td>(0, 0)</td>\n",
       "    </tr>\n",
       "    <tr>\n",
       "      <th>3</th>\n",
       "      <td>0.350000</td>\n",
       "      <td>0.00</td>\n",
       "      <td>-9.50</td>\n",
       "      <td>none</td>\n",
       "      <td>(0.0, -9.5)</td>\n",
       "      <td>(0, 0)</td>\n",
       "    </tr>\n",
       "    <tr>\n",
       "      <th>4</th>\n",
       "      <td>0.390000</td>\n",
       "      <td>0.00</td>\n",
       "      <td>-9.50</td>\n",
       "      <td>none</td>\n",
       "      <td>(0.0, -9.5)</td>\n",
       "      <td>(0, 0)</td>\n",
       "    </tr>\n",
       "    <tr>\n",
       "      <th>...</th>\n",
       "      <td>...</td>\n",
       "      <td>...</td>\n",
       "      <td>...</td>\n",
       "      <td>...</td>\n",
       "      <td>...</td>\n",
       "      <td>...</td>\n",
       "    </tr>\n",
       "    <tr>\n",
       "      <th>1516</th>\n",
       "      <td>76.000000</td>\n",
       "      <td>-5.84</td>\n",
       "      <td>8.50</td>\n",
       "      <td>right</td>\n",
       "      <td>(-5.84, 8.5)</td>\n",
       "      <td>(1, 0)</td>\n",
       "    </tr>\n",
       "    <tr>\n",
       "      <th>1517</th>\n",
       "      <td>76.050003</td>\n",
       "      <td>-5.53</td>\n",
       "      <td>8.50</td>\n",
       "      <td>right</td>\n",
       "      <td>(-5.53, 8.5)</td>\n",
       "      <td>(1, 0)</td>\n",
       "    </tr>\n",
       "    <tr>\n",
       "      <th>1518</th>\n",
       "      <td>76.099998</td>\n",
       "      <td>-5.08</td>\n",
       "      <td>8.50</td>\n",
       "      <td>right</td>\n",
       "      <td>(-5.08, 8.5)</td>\n",
       "      <td>(1, 0)</td>\n",
       "    </tr>\n",
       "    <tr>\n",
       "      <th>1519</th>\n",
       "      <td>76.139999</td>\n",
       "      <td>-4.80</td>\n",
       "      <td>8.48</td>\n",
       "      <td>right</td>\n",
       "      <td>(-4.8, 8.48)</td>\n",
       "      <td>(1, 0)</td>\n",
       "    </tr>\n",
       "    <tr>\n",
       "      <th>1520</th>\n",
       "      <td>76.199997</td>\n",
       "      <td>-4.50</td>\n",
       "      <td>8.33</td>\n",
       "      <td>down</td>\n",
       "      <td>(-4.5, 8.33)</td>\n",
       "      <td>(0, -1)</td>\n",
       "    </tr>\n",
       "  </tbody>\n",
       "</table>\n",
       "<p>1521 rows × 6 columns</p>\n",
       "</div>"
      ],
      "text/plain": [
       "      time_elapsed  Pacman_X  Pacman_Y movement_direction position_vector  \\\n",
       "0         0.200000      0.00     -9.50               none     (0.0, -9.5)   \n",
       "1         0.250000      0.00     -9.50               none     (0.0, -9.5)   \n",
       "2         0.300000      0.00     -9.50               none     (0.0, -9.5)   \n",
       "3         0.350000      0.00     -9.50               none     (0.0, -9.5)   \n",
       "4         0.390000      0.00     -9.50               none     (0.0, -9.5)   \n",
       "...            ...       ...       ...                ...             ...   \n",
       "1516     76.000000     -5.84      8.50              right    (-5.84, 8.5)   \n",
       "1517     76.050003     -5.53      8.50              right    (-5.53, 8.5)   \n",
       "1518     76.099998     -5.08      8.50              right    (-5.08, 8.5)   \n",
       "1519     76.139999     -4.80      8.48              right    (-4.8, 8.48)   \n",
       "1520     76.199997     -4.50      8.33               down    (-4.5, 8.33)   \n",
       "\n",
       "     movement_vector  \n",
       "0             (0, 0)  \n",
       "1             (0, 0)  \n",
       "2             (0, 0)  \n",
       "3             (0, 0)  \n",
       "4             (0, 0)  \n",
       "...              ...  \n",
       "1516          (1, 0)  \n",
       "1517          (1, 0)  \n",
       "1518          (1, 0)  \n",
       "1519          (1, 0)  \n",
       "1520         (0, -1)  \n",
       "\n",
       "[1521 rows x 6 columns]"
      ]
     },
     "execution_count": 393,
     "metadata": {},
     "output_type": "execute_result"
    }
   ],
   "source": [
    "pacman_ts['position_vector'] = list(zip(pacman_ts['Pacman_X'], pacman_ts['Pacman_Y']))\n",
    "\n",
    "direction_mapping = {\n",
    "    'right': (1, 0),\n",
    "    'left': (-1, 0),\n",
    "    'up': (0, 1),\n",
    "    'down': (0, -1),\n",
    "    'none': (0, 0)\n",
    "}\n",
    "\n",
    "pacman_ts['movement_vector'] = pacman_ts['movement_direction'].map(direction_mapping)\n",
    "\n",
    "\n",
    "pacman_ts"
   ]
  },
  {
   "cell_type": "code",
   "execution_count": 394,
   "metadata": {},
   "outputs": [
    {
     "data": {
      "text/html": [
       "<div>\n",
       "<style scoped>\n",
       "    .dataframe tbody tr th:only-of-type {\n",
       "        vertical-align: middle;\n",
       "    }\n",
       "\n",
       "    .dataframe tbody tr th {\n",
       "        vertical-align: top;\n",
       "    }\n",
       "\n",
       "    .dataframe thead th {\n",
       "        text-align: right;\n",
       "    }\n",
       "</style>\n",
       "<table border=\"1\" class=\"dataframe\">\n",
       "  <thead>\n",
       "    <tr style=\"text-align: right;\">\n",
       "      <th></th>\n",
       "      <th>game_id</th>\n",
       "      <th>time_elapsed</th>\n",
       "      <th>Pacman_X</th>\n",
       "      <th>Pacman_Y</th>\n",
       "    </tr>\n",
       "  </thead>\n",
       "  <tbody>\n",
       "    <tr>\n",
       "      <th>3955</th>\n",
       "      <td>388</td>\n",
       "      <td>0.190000</td>\n",
       "      <td>1.49</td>\n",
       "      <td>-9.49</td>\n",
       "    </tr>\n",
       "    <tr>\n",
       "      <th>3956</th>\n",
       "      <td>388</td>\n",
       "      <td>0.230000</td>\n",
       "      <td>1.94</td>\n",
       "      <td>-9.49</td>\n",
       "    </tr>\n",
       "    <tr>\n",
       "      <th>3957</th>\n",
       "      <td>388</td>\n",
       "      <td>0.290000</td>\n",
       "      <td>2.24</td>\n",
       "      <td>-9.50</td>\n",
       "    </tr>\n",
       "    <tr>\n",
       "      <th>3958</th>\n",
       "      <td>388</td>\n",
       "      <td>0.330000</td>\n",
       "      <td>2.69</td>\n",
       "      <td>-9.50</td>\n",
       "    </tr>\n",
       "    <tr>\n",
       "      <th>3959</th>\n",
       "      <td>388</td>\n",
       "      <td>0.400000</td>\n",
       "      <td>3.00</td>\n",
       "      <td>-9.50</td>\n",
       "    </tr>\n",
       "    <tr>\n",
       "      <th>...</th>\n",
       "      <td>...</td>\n",
       "      <td>...</td>\n",
       "      <td>...</td>\n",
       "      <td>...</td>\n",
       "    </tr>\n",
       "    <tr>\n",
       "      <th>715289</th>\n",
       "      <td>1045</td>\n",
       "      <td>19.240000</td>\n",
       "      <td>-5.83</td>\n",
       "      <td>8.50</td>\n",
       "    </tr>\n",
       "    <tr>\n",
       "      <th>715290</th>\n",
       "      <td>1045</td>\n",
       "      <td>19.290001</td>\n",
       "      <td>-5.32</td>\n",
       "      <td>8.50</td>\n",
       "    </tr>\n",
       "    <tr>\n",
       "      <th>715291</th>\n",
       "      <td>1045</td>\n",
       "      <td>19.340000</td>\n",
       "      <td>-4.98</td>\n",
       "      <td>8.50</td>\n",
       "    </tr>\n",
       "    <tr>\n",
       "      <th>715292</th>\n",
       "      <td>1045</td>\n",
       "      <td>19.389999</td>\n",
       "      <td>-4.45</td>\n",
       "      <td>8.49</td>\n",
       "    </tr>\n",
       "    <tr>\n",
       "      <th>715293</th>\n",
       "      <td>1045</td>\n",
       "      <td>19.440001</td>\n",
       "      <td>-4.11</td>\n",
       "      <td>8.49</td>\n",
       "    </tr>\n",
       "  </tbody>\n",
       "</table>\n",
       "<p>710210 rows × 4 columns</p>\n",
       "</div>"
      ],
      "text/plain": [
       "        game_id  time_elapsed  Pacman_X  Pacman_Y\n",
       "3955        388      0.190000      1.49     -9.49\n",
       "3956        388      0.230000      1.94     -9.49\n",
       "3957        388      0.290000      2.24     -9.50\n",
       "3958        388      0.330000      2.69     -9.50\n",
       "3959        388      0.400000      3.00     -9.50\n",
       "...         ...           ...       ...       ...\n",
       "715289     1045     19.240000     -5.83      8.50\n",
       "715290     1045     19.290001     -5.32      8.50\n",
       "715291     1045     19.340000     -4.98      8.50\n",
       "715292     1045     19.389999     -4.45      8.49\n",
       "715293     1045     19.440001     -4.11      8.49\n",
       "\n",
       "[710210 rows x 4 columns]"
      ]
     },
     "execution_count": 394,
     "metadata": {},
     "output_type": "execute_result"
    }
   ],
   "source": [
    "processed_df = utils.preprocess_game_data(gamestate_df)\n",
    "\n",
    "processed_df"
   ]
  },
  {
   "cell_type": "code",
   "execution_count": 395,
   "metadata": {},
   "outputs": [],
   "source": [
    "tensordf, mask, game_idx = utils.create_game_trajectory_tensor(processed_df)"
   ]
  },
  {
   "cell_type": "code",
   "execution_count": 396,
   "metadata": {},
   "outputs": [
    {
     "data": {
      "text/plain": [
       "torch.Size([656, 6320, 3])"
      ]
     },
     "execution_count": 396,
     "metadata": {},
     "output_type": "execute_result"
    }
   ],
   "source": [
    "tensordf.shape"
   ]
  },
  {
   "cell_type": "code",
   "execution_count": 402,
   "metadata": {},
   "outputs": [
    {
     "name": "stdout",
     "output_type": "stream",
     "text": [
      "torch.Size([32, 6320, 3])\n",
      "torch.Size([32, 6320])\n"
     ]
    },
    {
     "data": {
      "text/plain": [
       "tensor([[ 0.2000, -1.4900, -9.4900],\n",
       "        [ 0.2500, -1.7900, -9.4900],\n",
       "        [ 0.2900, -2.2400, -9.5000],\n",
       "        ...,\n",
       "        [ 0.0000,  0.0000,  0.0000],\n",
       "        [ 0.0000,  0.0000,  0.0000],\n",
       "        [ 0.0000,  0.0000,  0.0000]])"
      ]
     },
     "execution_count": 402,
     "metadata": {},
     "output_type": "execute_result"
    }
   ],
   "source": [
    "data_module = datamodule.TrajectoryDataModule(\n",
    "            data_folder='../data/',\n",
    "            batch_size=32,\n",
    "            max_sequence_length=None,\n",
    "            series_type=['position'],\n",
    "            include_game_state_vars=False,\n",
    "            include_timesteps=True\n",
    "        )\n",
    "\n",
    "data_module.prepare_data()\n",
    "data_module.setup()\n",
    "train_loader = data_module.train_dataloader()\n",
    "\n",
    "len(data_module.train_dataset)\n",
    "\n",
    "for batch in train_loader:\n",
    "    print(batch['trajectory'].shape)\n",
    "    print(batch['mask'].shape)\n",
    "    break\n",
    "\n",
    "data = next(iter(train_loader))\n",
    "\n",
    "data['trajectory'][0]\n"
   ]
  },
  {
   "cell_type": "code",
   "execution_count": 414,
   "metadata": {},
   "outputs": [
    {
     "data": {
      "text/plain": [
       "torch.Size([32, 6320, 3])"
      ]
     },
     "execution_count": 414,
     "metadata": {},
     "output_type": "execute_result"
    }
   ],
   "source": [
    "data['trajectory'].shape"
   ]
  },
  {
   "cell_type": "code",
   "execution_count": 398,
   "metadata": {},
   "outputs": [],
   "source": [
    "# min_x_value = data['trajectory'][:, :, 1].min().item()\n",
    "# print(f\"Min value for x (second feature): {min_x_value}\")\n",
    "\n",
    "# min_y_value = data['trajectory'][:, :, 1].max().item()\n",
    "# print(f\"Max value for x (second feature): {min_y_value}\")\n",
    "\n"
   ]
  },
  {
   "cell_type": "code",
   "execution_count": 399,
   "metadata": {},
   "outputs": [],
   "source": [
    "\n",
    "# min_y_value = data['trajectory'][:, :, 2].min().item()\n",
    "# print(f\"Min value for y (third feature): {min_y_value}\")\n",
    "\n",
    "# max_y_value = data['trajectory'][:, :, 2].max().item()\n",
    "# print(f\"Max value for y (third feature): {max_y_value}\")\n",
    "\n",
    "\n",
    "\n"
   ]
  },
  {
   "cell_type": "code",
   "execution_count": 423,
   "metadata": {},
   "outputs": [
    {
     "name": "stdout",
     "output_type": "stream",
     "text": [
      "torch.Size([32, 6320, 3])\n",
      "torch.Size([32, 32])\n"
     ]
    }
   ],
   "source": [
    "model = LSTM.LSTMAutoencoder(\n",
    "        input_dim=data_module.feature_dimension,\n",
    "        latent_dim=32,  # Adjust latent dimension as needed\n",
    "        sequence_length=data_module.sequence_length,\n",
    "        learning_rate=1e-3\n",
    "    )\n",
    "\n",
    "\n",
    "X_hat, z = model(data['trajectory'])\n",
    "\n",
    "print(X_hat.shape)\n",
    "\n",
    "print(z.shape)\n"
   ]
  },
  {
   "cell_type": "code",
   "execution_count": 400,
   "metadata": {},
   "outputs": [],
   "source": [
    "\n",
    "visualizer = TrajectoryVisualizer.TrajectoryVisualizer(data_folder=\"../data/\")"
   ]
  },
  {
   "cell_type": "code",
   "execution_count": 401,
   "metadata": {},
   "outputs": [
    {
     "data": {
      "image/png": "[encoded data removed]",
      "text/plain": [
       "<Figure size 800x800 with 2 Axes>"
      ]
     },
     "metadata": {},
     "output_type": "display_data"
    }
   ],
   "source": [
    "visualizer.create_trajectory_heatmap(game_id=600, normalize=False)"
   ]
  }
 ],
 "metadata": {
  "kernelspec": {
   "display_name": "pacman_encoder",
   "language": "python",
   "name": "python3"
  },
  "language_info": {
   "codemirror_mode": {
    "name": "ipython",
    "version": 3
   },
   "file_extension": ".py",
   "mimetype": "text/x-python",
   "name": "python",
   "nbconvert_exporter": "python",
   "pygments_lexer": "ipython3",
   "version": "3.11.11"
  }
 },
 "nbformat": 4,
 "nbformat_minor": 2
}
