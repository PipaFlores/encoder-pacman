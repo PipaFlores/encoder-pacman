{
 "cells": [
  {
   "cell_type": "code",
   "execution_count": 10,
   "metadata": {},
   "outputs": [
    {
     "name": "stdout",
     "output_type": "stream",
     "text": [
      "The autoreload extension is already loaded. To reload it, use:\n",
      "  %reload_ext autoreload\n"
     ]
    }
   ],
   "source": [
    "%load_ext autoreload\n",
    "%autoreload 2\n",
    "\n",
    "import pandas as pd\n",
    "import importlib\n",
    "import matplotlib.pyplot as plt\n",
    "import stumpy\n",
    "import numpy as np\n",
    "import torch\n",
    "import os\n",
    "import sys\n",
    "# Add project root to path - adjust the number of parent dirs (..) based on where your notebook is located\n",
    "module_path = os.path.abspath(os.path.join('..'))\n",
    "if module_path not in sys.path:\n",
    "    sys.path.append(module_path)\n",
    "\n",
    "\n",
    "from src.datamodule import TrajectoryDataModule\n",
    "import src.visualization as vis\n",
    "import src.models as models\n",
    "import src.utils as utils\n",
    "from src.utils import PacmanDataReader\n",
    "\n",
    "from IPython.core.interactiveshell import InteractiveShell\n",
    "InteractiveShell.ast_node_interactivity = \"all\""
   ]
  },
  {
   "cell_type": "markdown",
   "metadata": {},
   "source": [
    "## Data Handling\n",
    "Data reading, filtering, transformation, etc. will be handled by the `PacmanDataReader` class. This is a singleton class that will be initialized once and then reused whenever needed (e.g, by visualization functions).\n",
    "\n",
    "When initialized, the `PacmanDataReader` class will read the data from the data folder and filter out banned users.\n",
    "5 dataframes are created:\n",
    "- `game_df`: contains the game metadata\n",
    "- `gamestate_df`: contains the gamestate data\n",
    "- `user_df`: contains the user metadata\n",
    "- `ip_df`: contains the ip metadata\n",
    "- `redcap_df`: contains the redcap data\n",
    "- `psychometrics_df`: contains the psychometric data\n"
   ]
  },
  {
   "cell_type": "code",
   "execution_count": 11,
   "metadata": {},
   "outputs": [
    {
     "data": {
      "text/plain": [
       "Index(['game_state_id', 'game_id', 'time_elapsed', 'score', 'lives',\n",
       "       'pacman_attack', 'input_direction', 'movement_direction', 'Pacman_X',\n",
       "       'Pacman_Y', 'Ghost1_X', 'Ghost1_Y', 'Ghost2_X', 'Ghost2_Y', 'Ghost3_X',\n",
       "       'Ghost3_Y', 'Ghost4_X', 'Ghost4_Y', 'ghost1_state', 'ghost2_state',\n",
       "       'ghost3_state', 'ghost4_state', 'powerPellets', 'pellets',\n",
       "       'powerpelletstate_1', 'powerpelletstate_2', 'powerpelletstate_3',\n",
       "       'powerpelletstate_4', 'fruitState_1', 'fruitState_2'],\n",
       "      dtype='object')"
      ]
     },
     "execution_count": 11,
     "metadata": {},
     "output_type": "execute_result"
    }
   ],
   "source": [
    "data = PacmanDataReader(data_folder='../data/', read_games_only=False)\n",
    "data.gamestate_df.columns"
   ]
  },
  {
   "cell_type": "markdown",
   "metadata": {},
   "source": [
    "Attribute `self.gamestate_df` contains data as logged and retreived from the SQL database.\n"
   ]
  },
  {
   "cell_type": "code",
   "execution_count": 12,
   "metadata": {},
   "outputs": [
    {
     "data": {
      "text/html": [
       "<div>\n",
       "<style scoped>\n",
       "    .dataframe tbody tr th:only-of-type {\n",
       "        vertical-align: middle;\n",
       "    }\n",
       "\n",
       "    .dataframe tbody tr th {\n",
       "        vertical-align: top;\n",
       "    }\n",
       "\n",
       "    .dataframe thead th {\n",
       "        text-align: right;\n",
       "    }\n",
       "</style>\n",
       "<table border=\"1\" class=\"dataframe\">\n",
       "  <thead>\n",
       "    <tr style=\"text-align: right;\">\n",
       "      <th></th>\n",
       "      <th>game_state_id</th>\n",
       "      <th>game_id</th>\n",
       "      <th>time_elapsed</th>\n",
       "      <th>score</th>\n",
       "      <th>lives</th>\n",
       "      <th>pacman_attack</th>\n",
       "      <th>input_direction</th>\n",
       "      <th>movement_direction</th>\n",
       "      <th>Pacman_X</th>\n",
       "      <th>Pacman_Y</th>\n",
       "      <th>...</th>\n",
       "      <th>ghost3_state</th>\n",
       "      <th>ghost4_state</th>\n",
       "      <th>powerPellets</th>\n",
       "      <th>pellets</th>\n",
       "      <th>powerpelletstate_1</th>\n",
       "      <th>powerpelletstate_2</th>\n",
       "      <th>powerpelletstate_3</th>\n",
       "      <th>powerpelletstate_4</th>\n",
       "      <th>fruitState_1</th>\n",
       "      <th>fruitState_2</th>\n",
       "    </tr>\n",
       "  </thead>\n",
       "  <tbody>\n",
       "    <tr>\n",
       "      <th>3955</th>\n",
       "      <td>220049</td>\n",
       "      <td>388</td>\n",
       "      <td>0.19</td>\n",
       "      <td>10</td>\n",
       "      <td>3</td>\n",
       "      <td>0</td>\n",
       "      <td>right</td>\n",
       "      <td>right</td>\n",
       "      <td>1.485321</td>\n",
       "      <td>-9.489613</td>\n",
       "      <td>...</td>\n",
       "      <td>0</td>\n",
       "      <td>0</td>\n",
       "      <td>4</td>\n",
       "      <td>243</td>\n",
       "      <td>1</td>\n",
       "      <td>1</td>\n",
       "      <td>1</td>\n",
       "      <td>1</td>\n",
       "      <td>0</td>\n",
       "      <td>0</td>\n",
       "    </tr>\n",
       "    <tr>\n",
       "      <th>3956</th>\n",
       "      <td>220050</td>\n",
       "      <td>388</td>\n",
       "      <td>0.23</td>\n",
       "      <td>20</td>\n",
       "      <td>3</td>\n",
       "      <td>0</td>\n",
       "      <td>none</td>\n",
       "      <td>right</td>\n",
       "      <td>1.939881</td>\n",
       "      <td>-9.489613</td>\n",
       "      <td>...</td>\n",
       "      <td>0</td>\n",
       "      <td>0</td>\n",
       "      <td>4</td>\n",
       "      <td>242</td>\n",
       "      <td>1</td>\n",
       "      <td>1</td>\n",
       "      <td>1</td>\n",
       "      <td>1</td>\n",
       "      <td>0</td>\n",
       "      <td>0</td>\n",
       "    </tr>\n",
       "    <tr>\n",
       "      <th>3957</th>\n",
       "      <td>220051</td>\n",
       "      <td>388</td>\n",
       "      <td>0.29</td>\n",
       "      <td>20</td>\n",
       "      <td>3</td>\n",
       "      <td>0</td>\n",
       "      <td>none</td>\n",
       "      <td>right</td>\n",
       "      <td>2.240156</td>\n",
       "      <td>-9.503768</td>\n",
       "      <td>...</td>\n",
       "      <td>0</td>\n",
       "      <td>0</td>\n",
       "      <td>4</td>\n",
       "      <td>242</td>\n",
       "      <td>1</td>\n",
       "      <td>1</td>\n",
       "      <td>1</td>\n",
       "      <td>1</td>\n",
       "      <td>0</td>\n",
       "      <td>0</td>\n",
       "    </tr>\n",
       "    <tr>\n",
       "      <th>3958</th>\n",
       "      <td>220052</td>\n",
       "      <td>388</td>\n",
       "      <td>0.33</td>\n",
       "      <td>20</td>\n",
       "      <td>3</td>\n",
       "      <td>0</td>\n",
       "      <td>none</td>\n",
       "      <td>right</td>\n",
       "      <td>2.694716</td>\n",
       "      <td>-9.500579</td>\n",
       "      <td>...</td>\n",
       "      <td>0</td>\n",
       "      <td>0</td>\n",
       "      <td>4</td>\n",
       "      <td>242</td>\n",
       "      <td>1</td>\n",
       "      <td>1</td>\n",
       "      <td>1</td>\n",
       "      <td>1</td>\n",
       "      <td>0</td>\n",
       "      <td>0</td>\n",
       "    </tr>\n",
       "    <tr>\n",
       "      <th>3959</th>\n",
       "      <td>220053</td>\n",
       "      <td>388</td>\n",
       "      <td>0.40</td>\n",
       "      <td>30</td>\n",
       "      <td>3</td>\n",
       "      <td>0</td>\n",
       "      <td>none</td>\n",
       "      <td>right</td>\n",
       "      <td>2.997756</td>\n",
       "      <td>-9.499909</td>\n",
       "      <td>...</td>\n",
       "      <td>0</td>\n",
       "      <td>0</td>\n",
       "      <td>4</td>\n",
       "      <td>241</td>\n",
       "      <td>1</td>\n",
       "      <td>1</td>\n",
       "      <td>1</td>\n",
       "      <td>1</td>\n",
       "      <td>0</td>\n",
       "      <td>0</td>\n",
       "    </tr>\n",
       "  </tbody>\n",
       "</table>\n",
       "<p>5 rows × 30 columns</p>\n",
       "</div>"
      ],
      "text/plain": [
       "      game_state_id  game_id  time_elapsed  score  lives  pacman_attack  \\\n",
       "3955         220049      388          0.19     10      3              0   \n",
       "3956         220050      388          0.23     20      3              0   \n",
       "3957         220051      388          0.29     20      3              0   \n",
       "3958         220052      388          0.33     20      3              0   \n",
       "3959         220053      388          0.40     30      3              0   \n",
       "\n",
       "     input_direction movement_direction  Pacman_X  Pacman_Y  ...  \\\n",
       "3955           right              right  1.485321 -9.489613  ...   \n",
       "3956            none              right  1.939881 -9.489613  ...   \n",
       "3957            none              right  2.240156 -9.503768  ...   \n",
       "3958            none              right  2.694716 -9.500579  ...   \n",
       "3959            none              right  2.997756 -9.499909  ...   \n",
       "\n",
       "      ghost3_state  ghost4_state  powerPellets  pellets  powerpelletstate_1  \\\n",
       "3955             0             0             4      243                   1   \n",
       "3956             0             0             4      242                   1   \n",
       "3957             0             0             4      242                   1   \n",
       "3958             0             0             4      242                   1   \n",
       "3959             0             0             4      241                   1   \n",
       "\n",
       "      powerpelletstate_2  powerpelletstate_3  powerpelletstate_4  \\\n",
       "3955                   1                   1                   1   \n",
       "3956                   1                   1                   1   \n",
       "3957                   1                   1                   1   \n",
       "3958                   1                   1                   1   \n",
       "3959                   1                   1                   1   \n",
       "\n",
       "      fruitState_1  fruitState_2  \n",
       "3955             0             0  \n",
       "3956             0             0  \n",
       "3957             0             0  \n",
       "3958             0             0  \n",
       "3959             0             0  \n",
       "\n",
       "[5 rows x 30 columns]"
      ]
     },
     "execution_count": 12,
     "metadata": {},
     "output_type": "execute_result"
    }
   ],
   "source": [
    "data.gamestate_df.head()"
   ]
  },
  {
   "cell_type": "markdown",
   "metadata": {},
   "source": [
    "The methods `self.get_trajectory_array()` and `self.get_partial_trajectory_array()` are used to get trajectories in form of an `np.ndarray`, suitable for mathematical analysis."
   ]
  },
  {
   "cell_type": "code",
   "execution_count": 13,
   "metadata": {},
   "outputs": [
    {
     "data": {
      "text/plain": [
       "array([[ 0.18000001,  1.48531497, -9.48961735],\n",
       "       [ 0.23      ,  1.78835499, -9.48961735],\n",
       "       [ 0.28      ,  2.24015045, -9.50377083],\n",
       "       ...,\n",
       "       [76.79000092,  1.94490552,  8.51200962],\n",
       "       [76.81999969,  2.39679694,  8.49795246],\n",
       "       [76.88999939,  2.69983697,  8.49948978]])"
      ]
     },
     "execution_count": 13,
     "metadata": {},
     "output_type": "execute_result"
    },
    {
     "data": {
      "text/plain": [
       "1535"
      ]
     },
     "execution_count": 13,
     "metadata": {},
     "output_type": "execute_result"
    },
    {
     "data": {
      "text/plain": [
       "array([[ 1.48531497, -9.48961735],\n",
       "       [ 1.78835499, -9.48961735],\n",
       "       [ 2.24015045, -9.50377083],\n",
       "       [ 2.54319048, -9.50121593],\n",
       "       [ 2.99775052, -9.4999094 ],\n",
       "       [ 3.30070567, -9.49955559],\n",
       "       [ 3.75526571, -9.49947357],\n",
       "       [ 4.02023363, -9.50358009],\n",
       "       [ 4.48067808, -9.50836086],\n",
       "       [ 4.78371763, -9.50836086]])"
      ]
     },
     "execution_count": 13,
     "metadata": {},
     "output_type": "execute_result"
    },
    {
     "data": {
      "text/plain": [
       "10"
      ]
     },
     "execution_count": 13,
     "metadata": {},
     "output_type": "execute_result"
    }
   ],
   "source": [
    "data.get_trajectory_array(game_id=600, get_timevalues= True)\n",
    "data.get_trajectory_array(game_id= 600).__len__()\n",
    "\n",
    "data.get_partial_trajectory_array(game_id=600, end_timestep=10)\n",
    "data.get_partial_trajectory_array(game_id=600, end_timestep=10).__len__()"
   ]
  },
  {
   "cell_type": "markdown",
   "metadata": {},
   "source": [
    " Method `self.get_trajectory_dataframe()` and `self.filter_gamestate_data()` are used internally by the `DataModule` to setup the dataset for model training"
   ]
  },
  {
   "cell_type": "code",
   "execution_count": 14,
   "metadata": {},
   "outputs": [
    {
     "data": {
      "text/html": [
       "<div>\n",
       "<style scoped>\n",
       "    .dataframe tbody tr th:only-of-type {\n",
       "        vertical-align: middle;\n",
       "    }\n",
       "\n",
       "    .dataframe tbody tr th {\n",
       "        vertical-align: top;\n",
       "    }\n",
       "\n",
       "    .dataframe thead th {\n",
       "        text-align: right;\n",
       "    }\n",
       "</style>\n",
       "<table border=\"1\" class=\"dataframe\">\n",
       "  <thead>\n",
       "    <tr style=\"text-align: right;\">\n",
       "      <th></th>\n",
       "      <th>game_id</th>\n",
       "      <th>time_elapsed</th>\n",
       "      <th>Pacman_X</th>\n",
       "      <th>Pacman_Y</th>\n",
       "    </tr>\n",
       "  </thead>\n",
       "  <tbody>\n",
       "    <tr>\n",
       "      <th>3955</th>\n",
       "      <td>388</td>\n",
       "      <td>0.19</td>\n",
       "      <td>1.485321</td>\n",
       "      <td>-9.489613</td>\n",
       "    </tr>\n",
       "    <tr>\n",
       "      <th>3956</th>\n",
       "      <td>388</td>\n",
       "      <td>0.23</td>\n",
       "      <td>1.939881</td>\n",
       "      <td>-9.489613</td>\n",
       "    </tr>\n",
       "    <tr>\n",
       "      <th>3957</th>\n",
       "      <td>388</td>\n",
       "      <td>0.29</td>\n",
       "      <td>2.240156</td>\n",
       "      <td>-9.503768</td>\n",
       "    </tr>\n",
       "    <tr>\n",
       "      <th>3958</th>\n",
       "      <td>388</td>\n",
       "      <td>0.33</td>\n",
       "      <td>2.694716</td>\n",
       "      <td>-9.500579</td>\n",
       "    </tr>\n",
       "    <tr>\n",
       "      <th>3959</th>\n",
       "      <td>388</td>\n",
       "      <td>0.40</td>\n",
       "      <td>2.997756</td>\n",
       "      <td>-9.499909</td>\n",
       "    </tr>\n",
       "  </tbody>\n",
       "</table>\n",
       "</div>"
      ],
      "text/plain": [
       "      game_id  time_elapsed  Pacman_X  Pacman_Y\n",
       "3955      388          0.19  1.485321 -9.489613\n",
       "3956      388          0.23  1.939881 -9.489613\n",
       "3957      388          0.29  2.240156 -9.503768\n",
       "3958      388          0.33  2.694716 -9.500579\n",
       "3959      388          0.40  2.997756 -9.499909"
      ]
     },
     "execution_count": 14,
     "metadata": {},
     "output_type": "execute_result"
    },
    {
     "data": {
      "text/plain": [
       "torch.Size([656, 6320, 3])"
      ]
     },
     "execution_count": 14,
     "metadata": {},
     "output_type": "execute_result"
    }
   ],
   "source": [
    "pacman_ts = data.get_trajectory_dataframe(series_type=['position'])\n",
    "\n",
    "pacman_ts.head()\n",
    "\n",
    "datamodule = TrajectoryDataModule(data_folder='../data/')\n",
    "\n",
    "tensordf, mask, game_idx = datamodule._create_game_trajectory_tensor(trajectories_df=pacman_ts)\n",
    "\n",
    "tensordf.shape\n"
   ]
  }
 ],
 "metadata": {
  "kernelspec": {
   "display_name": "pacman_encoder",
   "language": "python",
   "name": "python3"
  },
  "language_info": {
   "codemirror_mode": {
    "name": "ipython",
    "version": 3
   },
   "file_extension": ".py",
   "mimetype": "text/x-python",
   "name": "python",
   "nbconvert_exporter": "python",
   "pygments_lexer": "ipython3",
   "version": "3.11.11"
  }
 },
 "nbformat": 4,
 "nbformat_minor": 2
}
