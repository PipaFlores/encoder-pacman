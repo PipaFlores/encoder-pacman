{
 "cells": [
  {
   "cell_type": "code",
   "execution_count": 2,
   "metadata": {},
   "outputs": [],
   "source": [
    "%load_ext autoreload\n",
    "%autoreload 2\n",
    "import os\n",
    "import sys\n",
    "# Add project root to path - adjust the number of parent dirs (..) based on where your notebook is located\n",
    "module_path = os.path.abspath(os.path.join('..'))\n",
    "if module_path not in sys.path:\n",
    "    sys.path.append(module_path)\n",
    "    \n",
    "import torch\n",
    "from torch.optim import Adam\n",
    "import pytorch_lightning as pl\n",
    "from pytorch_lightning.callbacks import ModelCheckpoint\n",
    "\n",
    "import src.datamodule as datamodule\n",
    "import src.models as models"
   ]
  },
  {
   "cell_type": "code",
   "execution_count": 3,
   "metadata": {},
   "outputs": [
    {
     "name": "stdout",
     "output_type": "stream",
     "text": [
      "torch.Size([32, 6320, 3])\n",
      "torch.Size([32, 6320])\n",
      "torch.Size([32])\n",
      "tensor([[ 0.1900,  0.0000, -9.5000],\n",
      "        [ 0.2300,  0.0000, -9.5000],\n",
      "        [ 0.2900,  0.0000, -9.5000],\n",
      "        ...,\n",
      "        [ 0.0000,  0.0000,  0.0000],\n",
      "        [ 0.0000,  0.0000,  0.0000],\n",
      "        [ 0.0000,  0.0000,  0.0000]])\n"
     ]
    }
   ],
   "source": [
    "data_module = datamodule.TrajectoryDataModule(\n",
    "            data_folder='../data/',\n",
    "            batch_size=32,\n",
    "            max_sequence_length=None,\n",
    "            series_type=['position'],\n",
    "            include_game_state_vars=False,\n",
    "            include_timesteps=True\n",
    "        )\n",
    "\n",
    "data_module.setup()\n",
    "train_loader = data_module.train_dataloader()\n",
    "data = next(iter(train_loader))\n",
    "\n",
    "len(data_module.train_dataset)\n",
    "\n",
    "print(data['trajectory'].shape)\n",
    "print(data['mask'].shape) \n",
    "print(data['game_id'].shape)\n",
    "\n",
    "print(data['trajectory'][1])\n"
   ]
  },
  {
   "cell_type": "code",
   "execution_count": 4,
   "metadata": {},
   "outputs": [
    {
     "name": "stdout",
     "output_type": "stream",
     "text": [
      "torch.Size([32, 6320, 3])\n",
      "torch.Size([32, 32])\n"
     ]
    }
   ],
   "source": [
    "model = models.LSTMAutoencoder(\n",
    "        input_dim=data_module.feature_dimension,\n",
    "        latent_dim=32,  # Adjust latent dimension as needed\n",
    "        sequence_length=data_module.sequence_length,\n",
    "        learning_rate=1e-3\n",
    "    )\n",
    "\n",
    "\n",
    "X_hat, z = model(data['trajectory'])\n",
    "\n",
    "print(X_hat.shape)\n",
    "\n",
    "print(z.shape)\n"
   ]
  },
  {
   "cell_type": "code",
   "execution_count": null,
   "metadata": {},
   "outputs": [],
   "source": [
    "# Create a checkpoint callback\n",
    "checkpoint_callback = ModelCheckpoint(\n",
    "    dirpath='checkpoints',\n",
    "    filename='autoencoder-{epoch:02d}-{val_loss:.2f}',\n",
    "    save_top_k=3,\n",
    "    monitor='val_loss',\n",
    "    mode='min'\n",
    ")\n",
    "\n",
    "# Initialize the trainer\n",
    "trainer = pl.Trainer(\n",
    "    max_epochs=100,  # Adjust number of epochs as needed\n",
    "    accelerator='auto',  # Will automatically detect if you have GPU available\n",
    "    callbacks=[checkpoint_callback],\n",
    "    # Enable progress bar\n",
    "    enable_progress_bar=True,\n",
    "    # Add validation every N epochs\n",
    "    check_val_every_n_epoch=1\n",
    ")\n",
    "\n",
    "# Train the model\n",
    "trainer.fit(\n",
    "    model=model,\n",
    "    train_dataloaders=data_module.train_dataloader(),\n",
    "    val_dataloaders=data_module.val_dataloader()\n",
    ")"
   ]
  }
 ],
 "metadata": {
  "kernelspec": {
   "display_name": "pacman_encoder",
   "language": "python",
   "name": "python3"
  },
  "language_info": {
   "codemirror_mode": {
    "name": "ipython",
    "version": 3
   },
   "file_extension": ".py",
   "mimetype": "text/x-python",
   "name": "python",
   "nbconvert_exporter": "python",
   "pygments_lexer": "ipython3",
   "version": "3.11.11"
  }
 },
 "nbformat": 4,
 "nbformat_minor": 2
}
